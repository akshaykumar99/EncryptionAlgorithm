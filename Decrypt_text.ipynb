{
 "cells": [
  {
   "cell_type": "code",
   "execution_count": 39,
   "metadata": {},
   "outputs": [],
   "source": [
    "import numpy as np"
   ]
  },
  {
   "cell_type": "code",
   "execution_count": 40,
   "metadata": {},
   "outputs": [],
   "source": [
    "file = open('encrypted.txt', 'r')\n",
    "string = file.read()\n",
    "string = string.split()\n",
    "# string"
   ]
  },
  {
   "cell_type": "code",
   "execution_count": 41,
   "metadata": {},
   "outputs": [],
   "source": [
    "dim = int(string[1])\n",
    "D2 = np.zeros((dim, dim), dtype = int)\n",
    "BA = np.zeros((dim, dim), dtype = int)"
   ]
  },
  {
   "cell_type": "code",
   "execution_count": 42,
   "metadata": {},
   "outputs": [],
   "source": [
    "ptr = 2\n",
    "for i in range(dim):\n",
    "    for j in range(dim):\n",
    "        BA[i, j] = int(string[ptr])\n",
    "        ptr += 1\n",
    "# BA"
   ]
  },
  {
   "cell_type": "code",
   "execution_count": 43,
   "metadata": {},
   "outputs": [],
   "source": [
    "for i in range(dim):\n",
    "    for j in range(dim):\n",
    "        D2[i, j] = int(string[ptr])\n",
    "        ptr += 1\n",
    "# D2"
   ]
  },
  {
   "cell_type": "code",
   "execution_count": 21,
   "metadata": {},
   "outputs": [
    {
     "data": {
      "text/plain": [
       "array([[1, 0, 0, 0, 0, 0],\n",
       "       [1, 1, 0, 0, 0, 0],\n",
       "       [1, 1, 1, 0, 0, 0],\n",
       "       [1, 1, 1, 1, 0, 0],\n",
       "       [1, 1, 1, 1, 1, 0],\n",
       "       [1, 1, 1, 1, 1, 1]])"
      ]
     },
     "execution_count": 21,
     "metadata": {},
     "output_type": "execute_result"
    }
   ],
   "source": [
    "# key matrix\n",
    "A = np.zeros((dim, dim), dtype = int)\n",
    "for i in range(dim):\n",
    "    for j in range(i+1):\n",
    "        A[i, j] = 1;\n",
    "A"
   ]
  },
  {
   "cell_type": "code",
   "execution_count": 22,
   "metadata": {},
   "outputs": [
    {
     "data": {
      "text/plain": [
       "array([[-2.26818564e-13,  4.50000000e+01,  4.30044889e-13,\n",
       "        -5.36098943e-14,  6.26859675e-14, -3.26752514e-14],\n",
       "       [ 4.50000000e+01,  2.58515431e-13,  4.20000000e+01,\n",
       "         1.19557142e-14,  1.11792520e-13, -1.18512838e-13],\n",
       "       [-6.17006446e-14,  4.20000000e+01,  1.27328703e-13,\n",
       "         4.90000000e+01,  6.70054290e-14, -4.13852980e-14],\n",
       "       [-2.39169795e-13, -3.08364445e-14,  4.90000000e+01,\n",
       "        -2.69680112e-14,  4.90000000e+01, -1.43647247e-13],\n",
       "       [ 1.35363942e-13, -2.06418216e-13, -1.72376002e-13,\n",
       "         4.90000000e+01,  1.87117682e-13,  5.20000000e+01],\n",
       "       [-2.44693155e-13, -1.53210777e-13,  1.45439216e-13,\n",
       "         1.13797860e-14,  5.20000000e+01, -1.22402088e-14]])"
      ]
     },
     "execution_count": 22,
     "metadata": {},
     "output_type": "execute_result"
    }
   ],
   "source": [
    "D2_inv = np.linalg.inv(D2)\n",
    "A_inv = np.linalg.inv(A)\n",
    "B = np.dot(BA, A_inv)\n",
    "D1 = np.dot(B, D2_inv)\n",
    "D1"
   ]
  },
  {
   "cell_type": "code",
   "execution_count": 23,
   "metadata": {},
   "outputs": [],
   "source": [
    "def inttochar(x):\n",
    "    if(x >= 0 and x <= 9):\n",
    "        return str(x)\n",
    "    elif(x >= 10 and x <= 35):\n",
    "        return chr(int(x + ord('A') - 10))\n",
    "    elif(x == 36):\n",
    "        return '.'\n",
    "    elif(x == 37):\n",
    "        return ' '\n",
    "    elif(x >= 38 and x <= 63):\n",
    "        return chr(int(x + ord('a') - 38))"
   ]
  },
  {
   "cell_type": "code",
   "execution_count": 24,
   "metadata": {},
   "outputs": [
    {
     "data": {
      "text/plain": [
       "'hello'"
      ]
     },
     "execution_count": 24,
     "metadata": {},
     "output_type": "execute_result"
    }
   ],
   "source": [
    "decoded_message = ''\n",
    "for i in range(dim - 1):\n",
    "    decoded_message += inttochar(round(D1[i, i + 1]))\n",
    "decoded_message"
   ]
  },
  {
   "cell_type": "code",
   "execution_count": 25,
   "metadata": {},
   "outputs": [],
   "source": [
    "output = open('output.txt', 'w')\n",
    "output.write(decoded_message)\n",
    "output.close()"
   ]
  },
  {
   "cell_type": "code",
   "execution_count": null,
   "metadata": {},
   "outputs": [],
   "source": []
  }
 ],
 "metadata": {
  "kernelspec": {
   "display_name": "Python 3",
   "language": "python",
   "name": "python3"
  },
  "language_info": {
   "codemirror_mode": {
    "name": "ipython",
    "version": 3
   },
   "file_extension": ".py",
   "mimetype": "text/x-python",
   "name": "python",
   "nbconvert_exporter": "python",
   "pygments_lexer": "ipython3",
   "version": "3.8.5"
  }
 },
 "nbformat": 4,
 "nbformat_minor": 4
}
