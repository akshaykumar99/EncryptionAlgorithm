{
 "cells": [
  {
   "cell_type": "code",
   "execution_count": 40,
   "metadata": {},
   "outputs": [],
   "source": [
    "import numpy as np"
   ]
  },
  {
   "cell_type": "code",
   "execution_count": 41,
   "metadata": {},
   "outputs": [],
   "source": [
    "def chartoint(c):\n",
    "    if(c >= '0' and c <= '9'):\n",
    "        return int(c) - int('0')\n",
    "    elif(c == '.'):\n",
    "        return 36\n",
    "    elif(c == ' '):\n",
    "        return 37\n",
    "    elif(c >= 'a' and c <= 'z'):\n",
    "        return ord(c) - ord('a') + 38\n",
    "    else:\n",
    "        return ord(c) - ord('A') + 10"
   ]
  },
  {
   "cell_type": "code",
   "execution_count": 42,
   "metadata": {},
   "outputs": [],
   "source": [
    "def encode(s):\n",
    "    return [chartoint(char) for char in s]"
   ]
  },
  {
   "cell_type": "code",
   "execution_count": 43,
   "metadata": {},
   "outputs": [],
   "source": [
    "# input file\n",
    "input = open('input.txt', 'r')\n",
    "s = input.read()\n",
    "s = encode(s)\n",
    "# print(s)"
   ]
  },
  {
   "cell_type": "code",
   "execution_count": 44,
   "metadata": {},
   "outputs": [],
   "source": [
    "# dimension of the adjacency matrix (dim, dim)\n",
    "dim = len(s) + 1\n",
    "D1 = np.zeros((dim, dim), dtype = int)"
   ]
  },
  {
   "cell_type": "code",
   "execution_count": 45,
   "metadata": {},
   "outputs": [],
   "source": [
    "for i in range(dim-1):\n",
    "    D1[i, i+1] = D1[i+1, i] = s[i]\n",
    "# D1"
   ]
  },
  {
   "cell_type": "code",
   "execution_count": 47,
   "metadata": {},
   "outputs": [],
   "source": [
    "D2 = np.random.randint(0, 64, (dim, dim))\n",
    "for i in range(dim-1):\n",
    "    D2[i, i+1] = D2[i+1, i] = s[i]\n",
    "# D2"
   ]
  },
  {
   "cell_type": "code",
   "execution_count": 48,
   "metadata": {},
   "outputs": [],
   "source": [
    "B = np.dot(D1, D2)\n",
    "# B"
   ]
  },
  {
   "cell_type": "code",
   "execution_count": 49,
   "metadata": {},
   "outputs": [],
   "source": [
    "# key matrix\n",
    "A = np.zeros((dim, dim), dtype = int)\n",
    "for i in range(dim):\n",
    "    for j in range(i+1):\n",
    "        A[i, j] = 1;\n",
    "# A"
   ]
  },
  {
   "cell_type": "code",
   "execution_count": 50,
   "metadata": {},
   "outputs": [],
   "source": [
    "BA = np.dot(B, A)\n",
    "# BA"
   ]
  },
  {
   "cell_type": "code",
   "execution_count": 51,
   "metadata": {},
   "outputs": [],
   "source": [
    "file_to_be_sent = open('encrypted.txt', 'w')"
   ]
  },
  {
   "cell_type": "code",
   "execution_count": 52,
   "metadata": {},
   "outputs": [],
   "source": [
    "string = str(1) + ' ' + str(dim) + ' '\n",
    "for i in range(dim):\n",
    "    for j in range(dim):\n",
    "        string += str(BA[i, j]) + ' '\n",
    "# string"
   ]
  },
  {
   "cell_type": "code",
   "execution_count": 53,
   "metadata": {},
   "outputs": [],
   "source": [
    "for i in range(dim):\n",
    "    for j in range(dim):\n",
    "        string += str(D2[i, j]) + ' '\n",
    "# string"
   ]
  },
  {
   "cell_type": "code",
   "execution_count": 54,
   "metadata": {},
   "outputs": [],
   "source": [
    "file_to_be_sent.write(string)\n",
    "file_to_be_sent.close()"
   ]
  },
  {
   "cell_type": "code",
   "execution_count": null,
   "metadata": {},
   "outputs": [],
   "source": []
  }
 ],
 "metadata": {
  "kernelspec": {
   "display_name": "Python 3",
   "language": "python",
   "name": "python3"
  },
  "language_info": {
   "codemirror_mode": {
    "name": "ipython",
    "version": 3
   },
   "file_extension": ".py",
   "mimetype": "text/x-python",
   "name": "python",
   "nbconvert_exporter": "python",
   "pygments_lexer": "ipython3",
   "version": "3.8.5"
  }
 },
 "nbformat": 4,
 "nbformat_minor": 4
}
